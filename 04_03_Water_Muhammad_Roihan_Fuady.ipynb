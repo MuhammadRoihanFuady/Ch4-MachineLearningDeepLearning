{
  "nbformat": 4,
  "nbformat_minor": 0,
  "metadata": {
    "colab": {
      "provenance": []
    },
    "kernelspec": {
      "name": "python3",
      "display_name": "Python 3"
    },
    "language_info": {
      "name": "python"
    }
  },
  "cells": [
    {
      "cell_type": "markdown",
      "source": [
        "#**Task 3**\n"
      ],
      "metadata": {
        "id": "iaVsnv5_jW5E"
      }
    },
    {
      "cell_type": "code",
      "execution_count": null,
      "metadata": {
        "id": "DjnWB5hPjJt7"
      },
      "outputs": [],
      "source": [
        "import torch as torch\n",
        "import torchvision.datasets as datasets\n",
        "import torchvision.transforms as transforms\n",
        "import torch.nn as nn\n",
        "import matplotlib.pyplot as plt"
      ]
    },
    {
      "cell_type": "markdown",
      "source": [
        "##1. Loading your MNIST dataset for the data loader"
      ],
      "metadata": {
        "id": "FiYKYXBcR8mV"
      }
    },
    {
      "cell_type": "code",
      "source": [
        "transform = transforms.Compose ([transforms.ToTensor(), transforms.Normalize((0.5,), (0.5,)),])\n",
        "mnist_trainset = datasets.MNIST(root='./data', train=True, download=True, transform=transform)\n",
        "train_loader = torch.utils.data.DataLoader(mnist_trainset, batch_size=10, shuffle=True)\n",
        "mnist_testset = datasets.MNIST(root='./data', train=False, download=True, transform=transform)\n",
        "test_loader = torch.utils.data.DataLoader(mnist_testset, batch_size=10, shuffle=True)"
      ],
      "metadata": {
        "id": "E5c6pSw2mWAp",
        "colab": {
          "base_uri": "https://localhost:8080/"
        },
        "outputId": "d1393f42-490f-40d1-b816-69c0bc7386f4"
      },
      "execution_count": null,
      "outputs": [
        {
          "output_type": "stream",
          "name": "stdout",
          "text": [
            "Downloading http://yann.lecun.com/exdb/mnist/train-images-idx3-ubyte.gz\n",
            "Downloading http://yann.lecun.com/exdb/mnist/train-images-idx3-ubyte.gz to ./data/MNIST/raw/train-images-idx3-ubyte.gz\n"
          ]
        },
        {
          "output_type": "stream",
          "name": "stderr",
          "text": [
            "100%|██████████| 9912422/9912422 [00:00<00:00, 30256993.55it/s]\n"
          ]
        },
        {
          "output_type": "stream",
          "name": "stdout",
          "text": [
            "Extracting ./data/MNIST/raw/train-images-idx3-ubyte.gz to ./data/MNIST/raw\n",
            "\n",
            "Downloading http://yann.lecun.com/exdb/mnist/train-labels-idx1-ubyte.gz\n",
            "Downloading http://yann.lecun.com/exdb/mnist/train-labels-idx1-ubyte.gz to ./data/MNIST/raw/train-labels-idx1-ubyte.gz\n"
          ]
        },
        {
          "output_type": "stream",
          "name": "stderr",
          "text": [
            "100%|██████████| 28881/28881 [00:00<00:00, 43078127.25it/s]\n"
          ]
        },
        {
          "output_type": "stream",
          "name": "stdout",
          "text": [
            "Extracting ./data/MNIST/raw/train-labels-idx1-ubyte.gz to ./data/MNIST/raw\n",
            "\n",
            "Downloading http://yann.lecun.com/exdb/mnist/t10k-images-idx3-ubyte.gz\n",
            "Downloading http://yann.lecun.com/exdb/mnist/t10k-images-idx3-ubyte.gz to ./data/MNIST/raw/t10k-images-idx3-ubyte.gz\n"
          ]
        },
        {
          "output_type": "stream",
          "name": "stderr",
          "text": [
            "100%|██████████| 1648877/1648877 [00:00<00:00, 43295217.15it/s]\n"
          ]
        },
        {
          "output_type": "stream",
          "name": "stdout",
          "text": [
            "Extracting ./data/MNIST/raw/t10k-images-idx3-ubyte.gz to ./data/MNIST/raw\n",
            "\n",
            "Downloading http://yann.lecun.com/exdb/mnist/t10k-labels-idx1-ubyte.gz\n",
            "Downloading http://yann.lecun.com/exdb/mnist/t10k-labels-idx1-ubyte.gz to ./data/MNIST/raw/t10k-labels-idx1-ubyte.gz\n"
          ]
        },
        {
          "output_type": "stream",
          "name": "stderr",
          "text": [
            "100%|██████████| 4542/4542 [00:00<00:00, 14790783.20it/s]"
          ]
        },
        {
          "output_type": "stream",
          "name": "stdout",
          "text": [
            "Extracting ./data/MNIST/raw/t10k-labels-idx1-ubyte.gz to ./data/MNIST/raw\n",
            "\n"
          ]
        },
        {
          "output_type": "stream",
          "name": "stderr",
          "text": [
            "\n"
          ]
        }
      ]
    },
    {
      "cell_type": "markdown",
      "source": [
        "## 2. Visualize several MNIST datasets"
      ],
      "metadata": {
        "id": "EgTT5hFsSJqf"
      }
    },
    {
      "cell_type": "code",
      "source": [
        "%matplotlib inline\n",
        "def plot_images(images):\n",
        "  fig, axs = plt.subplots(1, len(images), figsize=(12, 6))\n",
        "  for i, image in enumerate(images):\n",
        "    axs[i].imshow(image.squeeze().numpy(), cmap='gray')\n",
        "    axs[i].axis('off')\n",
        "\n",
        "images, labels = next(iter(train_loader))\n",
        "plot_images(images[:10])"
      ],
      "metadata": {
        "colab": {
          "base_uri": "https://localhost:8080/",
          "height": 115
        },
        "id": "mc8vvBVumuuZ",
        "outputId": "a6c8f1e0-5af3-4eaf-8e0b-f6355072b4d6"
      },
      "execution_count": null,
      "outputs": [
        {
          "output_type": "display_data",
          "data": {
            "text/plain": [
              "<Figure size 1200x600 with 10 Axes>"
            ],
            "image/png": "[encoded data removed]"
          },
          "metadata": {}
        }
      ]
    },
    {
      "cell_type": "markdown",
      "source": [
        "## 3. Design your Neural Network model"
      ],
      "metadata": {
        "id": "x3PLO0XZSPk5"
      }
    },
    {
      "cell_type": "code",
      "source": [
        "class NN(nn.Module):\n",
        "    def __init__(self):\n",
        "        super(NN, self).__init__()\n",
        "        self.Linear1 = nn.Linear(28 * 28, 128)\n",
        "        self.relu = nn.ReLU()\n",
        "        self.Linear2 = nn.Linear(128, 10)\n",
        "\n",
        "    def forward(self, x):\n",
        "        x = x.view(x.size(0), -1)\n",
        "        x = self.Linear1(x)\n",
        "        x = self.relu(x)\n",
        "        x = self.Linear2(x)\n",
        "        return x\n",
        "net = NN()"
      ],
      "metadata": {
        "id": "phk3lO60pYpA"
      },
      "execution_count": null,
      "outputs": []
    },
    {
      "cell_type": "markdown",
      "source": [
        "## 4. Setup your hyperparameter such as Loss Function, Optimizer, Learning Rate, etc"
      ],
      "metadata": {
        "id": "eE_Z-X-rTEhH"
      }
    },
    {
      "cell_type": "code",
      "source": [
        "cross_el = nn.CrossEntropyLoss()\n",
        "optimizer = torch.optim.Adam(net.parameters(), lr=0.001)\n",
        "epoch = 20"
      ],
      "metadata": {
        "id": "Fq08nseOqocr"
      },
      "execution_count": null,
      "outputs": []
    },
    {
      "cell_type": "markdown",
      "source": [
        "## 5. Develop a training loop and run a training model"
      ],
      "metadata": {
        "id": "VKeMrIKgTI4Q"
      }
    },
    {
      "cell_type": "code",
      "source": [
        "for epoch in range(epoch):\n",
        "  net.train()\n",
        "  running_loss = 0.0\n",
        "\n",
        "  for data in train_loader:\n",
        "    x, y = data\n",
        "    optimizer.zero_grad()\n",
        "    outputs = net(x.view(-1, 28*28))\n",
        "    loss = cross_el(outputs, y)\n",
        "    loss.backward()\n",
        "    optimizer.step()\n",
        "\n",
        "  running_loss += loss.item()\n",
        "  average_loss = running_loss / len(train_loader)\n",
        "\n",
        "  print(f'[{epoch + 1}, {epoch + 1:5d}] Loss : {running_loss/2000:.5f}')"
      ],
      "metadata": {
        "colab": {
          "base_uri": "https://localhost:8080/"
        },
        "id": "THwBIjtpJEAa",
        "outputId": "d960b208-31e7-49de-81e9-09f06d7c2e3a"
      },
      "execution_count": null,
      "outputs": [
        {
          "output_type": "stream",
          "name": "stdout",
          "text": [
            "[1,     1] Loss : 0.00000\n",
            "[2,     2] Loss : 0.00000\n",
            "[3,     3] Loss : 0.00007\n",
            "[4,     4] Loss : 0.00006\n",
            "[5,     5] Loss : 0.00000\n",
            "[6,     6] Loss : 0.00007\n",
            "[7,     7] Loss : 0.00000\n",
            "[8,     8] Loss : 0.00000\n",
            "[9,     9] Loss : 0.00008\n",
            "[10,    10] Loss : 0.00000\n",
            "[11,    11] Loss : 0.00001\n",
            "[12,    12] Loss : 0.00000\n",
            "[13,    13] Loss : 0.00000\n",
            "[14,    14] Loss : 0.00000\n",
            "[15,    15] Loss : 0.00002\n",
            "[16,    16] Loss : 0.00000\n",
            "[17,    17] Loss : 0.00001\n",
            "[18,    18] Loss : 0.00001\n",
            "[19,    19] Loss : 0.00000\n",
            "[20,    20] Loss : 0.00015\n"
          ]
        }
      ]
    },
    {
      "cell_type": "code",
      "source": [
        "correct = 0\n",
        "total = 0\n",
        "with torch.no_grad():\n",
        "  for data in test_loader:\n",
        "    x, y = data\n",
        "    output = (x.view(-1, 784))\n",
        "    for idx, i in enumerate(output):\n",
        "      if torch.argmax(i) == y[idx]:\n",
        "        correct += 1\n",
        "      total += 1"
      ],
      "metadata": {
        "id": "k4oDWKmJVZ3_"
      },
      "execution_count": null,
      "outputs": []
    },
    {
      "cell_type": "markdown",
      "source": [
        "## 6. Evaluate the Model using several performance metrics such as accuracy, confusion matrix, F1 Score, Precision, Recall, etc"
      ],
      "metadata": {
        "id": "2Z0wH-JRTsBk"
      }
    },
    {
      "cell_type": "code",
      "source": [
        "from sklearn.metrics import confusion_matrix\n",
        "from sklearn.metrics import precision_score\n",
        "from sklearn.metrics import recall_score\n",
        "from sklearn.metrics import f1_score\n",
        "from sklearn.metrics import accuracy_score\n",
        "\n",
        "\n",
        "y_labels = []\n",
        "y_preds = []\n",
        "\n",
        "with torch.no_grad():\n",
        "  for images, labels in test_loader:\n",
        "    outputs = net(images.view(-1, 28 * 28))\n",
        "    _, preds = torch.max(outputs, 1)\n",
        "    y_labels.extend(labels.numpy())\n",
        "    y_preds.extend(preds.numpy())\n",
        "\n",
        "accuracy = accuracy_score(y_labels, y_preds)\n",
        "print(f'Accuracy: {accuracy}')\n",
        "\n",
        "precision = precision_score(y_labels, y_preds, average='weighted')\n",
        "print(f'Precision: {precision}')\n",
        "\n",
        "recall = recall_score(y_labels, y_preds, average='weighted')\n",
        "print(f'Recall: {recall}')\n",
        "\n",
        "f1 = f1_score(y_labels, y_preds, average='weighted')\n",
        "print(f'F1 Score: {f1}')\n",
        "\n",
        "confusion_matrix = confusion_matrix(y_labels, y_preds)\n",
        "print(f'Confusion Matrix:\\n{confusion_matrix}')"
      ],
      "metadata": {
        "colab": {
          "base_uri": "https://localhost:8080/"
        },
        "id": "K4HpaKLPWKDC",
        "outputId": "c41fe1a9-8791-491a-d82f-d511b841c1d7"
      },
      "execution_count": null,
      "outputs": [
        {
          "output_type": "stream",
          "name": "stdout",
          "text": [
            "Accuracy: 0.9722\n",
            "Precision: 0.972286910218698\n",
            "Recall: 0.9722\n",
            "F1 Score: 0.9722009107247621\n",
            "Confusion Matrix:\n",
            "[[ 971    0    2    0    0    2    2    0    3    0]\n",
            " [   0 1117    5    1    0    1    1    2    7    1]\n",
            " [   4    1 1010    2    0    0    3    3    9    0]\n",
            " [   1    0    9  973    0    8    0    4    4   11]\n",
            " [   3    0    4    0  952    1    3    4    2   13]\n",
            " [   4    0    0    9    2  864    4    1    5    3]\n",
            " [   8    2    1    0    7    5  930    1    4    0]\n",
            " [   2    1   13    4    0    0    0 1000    3    5]\n",
            " [   3    0    5    2    3    5    2    4  947    3]\n",
            " [   3    3    0    5   13    5    0   13    9  958]]\n"
          ]
        }
      ]
    },
    {
      "cell_type": "markdown",
      "source": [
        "## 7. Describe and explain your Result"
      ],
      "metadata": {
        "id": "dnl3SkZ6T4-2"
      }
    },
    {
      "cell_type": "code",
      "source": [
        "plt.imshow(x[3].view(28, 28))\n",
        "plt.show()\n",
        "print(torch.argmax((x[3].view(-1, 784))[0]))"
      ],
      "metadata": {
        "colab": {
          "base_uri": "https://localhost:8080/",
          "height": 447
        },
        "id": "sppw0jutY-dT",
        "outputId": "8a8bce13-9cff-482e-a190-45ff5a5af655"
      },
      "execution_count": null,
      "outputs": [
        {
          "output_type": "display_data",
          "data": {
            "text/plain": [
              "<Figure size 640x480 with 1 Axes>"
            ],
            "image/png": "[encoded data removed]"
          },
          "metadata": {}
        },
        {
          "output_type": "stream",
          "name": "stdout",
          "text": [
            "tensor(93)\n"
          ]
        }
      ]
    }
  ]
}